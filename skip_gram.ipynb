{
  "nbformat": 4,
  "nbformat_minor": 0,
  "metadata": {
    "colab": {
      "provenance": []
    },
    "kernelspec": {
      "name": "python3",
      "display_name": "Python 3"
    },
    "language_info": {
      "name": "python"
    },
    "widgets": {
      "application/vnd.jupyter.widget-state+json": {
        "094f10e5287c484498797874184e5532": {
          "model_module": "@jupyter-widgets/controls",
          "model_name": "HBoxModel",
          "model_module_version": "1.5.0",
          "state": {
            "_dom_classes": [],
            "_model_module": "@jupyter-widgets/controls",
            "_model_module_version": "1.5.0",
            "_model_name": "HBoxModel",
            "_view_count": null,
            "_view_module": "@jupyter-widgets/controls",
            "_view_module_version": "1.5.0",
            "_view_name": "HBoxView",
            "box_style": "",
            "children": [
              "IPY_MODEL_e5177328e03b4dc99747684d0a37e6ee",
              "IPY_MODEL_a7c4b2f328f748009054fb9c1afd84a1",
              "IPY_MODEL_b6f028e6bab44616b4d56c57f6f3b09e"
            ],
            "layout": "IPY_MODEL_4059c2f92d9b413cbe412a451ef18c9e"
          }
        },
        "e5177328e03b4dc99747684d0a37e6ee": {
          "model_module": "@jupyter-widgets/controls",
          "model_name": "HTMLModel",
          "model_module_version": "1.5.0",
          "state": {
            "_dom_classes": [],
            "_model_module": "@jupyter-widgets/controls",
            "_model_module_version": "1.5.0",
            "_model_name": "HTMLModel",
            "_view_count": null,
            "_view_module": "@jupyter-widgets/controls",
            "_view_module_version": "1.5.0",
            "_view_name": "HTMLView",
            "description": "",
            "description_tooltip": null,
            "layout": "IPY_MODEL_77d96e3fa74c4af48acd8c3982d575ba",
            "placeholder": "​",
            "style": "IPY_MODEL_16ae2368ef2b46a69c0c04fdc94311bd",
            "value": "Epoch 0 Training:   6%"
          }
        },
        "a7c4b2f328f748009054fb9c1afd84a1": {
          "model_module": "@jupyter-widgets/controls",
          "model_name": "FloatProgressModel",
          "model_module_version": "1.5.0",
          "state": {
            "_dom_classes": [],
            "_model_module": "@jupyter-widgets/controls",
            "_model_module_version": "1.5.0",
            "_model_name": "FloatProgressModel",
            "_view_count": null,
            "_view_module": "@jupyter-widgets/controls",
            "_view_module_version": "1.5.0",
            "_view_name": "ProgressView",
            "bar_style": "danger",
            "description": "",
            "description_tooltip": null,
            "layout": "IPY_MODEL_18ad150feb6845cc82c1ef66fbd79735",
            "max": 24748,
            "min": 0,
            "orientation": "horizontal",
            "style": "IPY_MODEL_a5ec033a2df44dfda3a1bd1bc58defd4",
            "value": 1390
          }
        },
        "b6f028e6bab44616b4d56c57f6f3b09e": {
          "model_module": "@jupyter-widgets/controls",
          "model_name": "HTMLModel",
          "model_module_version": "1.5.0",
          "state": {
            "_dom_classes": [],
            "_model_module": "@jupyter-widgets/controls",
            "_model_module_version": "1.5.0",
            "_model_name": "HTMLModel",
            "_view_count": null,
            "_view_module": "@jupyter-widgets/controls",
            "_view_module_version": "1.5.0",
            "_view_name": "HTMLView",
            "description": "",
            "description_tooltip": null,
            "layout": "IPY_MODEL_ff3f229d98f0438e8229e67c0bf1ce96",
            "placeholder": "​",
            "style": "IPY_MODEL_cf5e8fa767984a57b47e9fd48e057d30",
            "value": " 1390/24748 [30:16&lt;8:10:47,  1.26s/it, loss=1.04e+4]"
          }
        },
        "4059c2f92d9b413cbe412a451ef18c9e": {
          "model_module": "@jupyter-widgets/base",
          "model_name": "LayoutModel",
          "model_module_version": "1.2.0",
          "state": {
            "_model_module": "@jupyter-widgets/base",
            "_model_module_version": "1.2.0",
            "_model_name": "LayoutModel",
            "_view_count": null,
            "_view_module": "@jupyter-widgets/base",
            "_view_module_version": "1.2.0",
            "_view_name": "LayoutView",
            "align_content": null,
            "align_items": null,
            "align_self": null,
            "border": null,
            "bottom": null,
            "display": null,
            "flex": null,
            "flex_flow": null,
            "grid_area": null,
            "grid_auto_columns": null,
            "grid_auto_flow": null,
            "grid_auto_rows": null,
            "grid_column": null,
            "grid_gap": null,
            "grid_row": null,
            "grid_template_areas": null,
            "grid_template_columns": null,
            "grid_template_rows": null,
            "height": null,
            "justify_content": null,
            "justify_items": null,
            "left": null,
            "margin": null,
            "max_height": null,
            "max_width": null,
            "min_height": null,
            "min_width": null,
            "object_fit": null,
            "object_position": null,
            "order": null,
            "overflow": null,
            "overflow_x": null,
            "overflow_y": null,
            "padding": null,
            "right": null,
            "top": null,
            "visibility": null,
            "width": null
          }
        },
        "77d96e3fa74c4af48acd8c3982d575ba": {
          "model_module": "@jupyter-widgets/base",
          "model_name": "LayoutModel",
          "model_module_version": "1.2.0",
          "state": {
            "_model_module": "@jupyter-widgets/base",
            "_model_module_version": "1.2.0",
            "_model_name": "LayoutModel",
            "_view_count": null,
            "_view_module": "@jupyter-widgets/base",
            "_view_module_version": "1.2.0",
            "_view_name": "LayoutView",
            "align_content": null,
            "align_items": null,
            "align_self": null,
            "border": null,
            "bottom": null,
            "display": null,
            "flex": null,
            "flex_flow": null,
            "grid_area": null,
            "grid_auto_columns": null,
            "grid_auto_flow": null,
            "grid_auto_rows": null,
            "grid_column": null,
            "grid_gap": null,
            "grid_row": null,
            "grid_template_areas": null,
            "grid_template_columns": null,
            "grid_template_rows": null,
            "height": null,
            "justify_content": null,
            "justify_items": null,
            "left": null,
            "margin": null,
            "max_height": null,
            "max_width": null,
            "min_height": null,
            "min_width": null,
            "object_fit": null,
            "object_position": null,
            "order": null,
            "overflow": null,
            "overflow_x": null,
            "overflow_y": null,
            "padding": null,
            "right": null,
            "top": null,
            "visibility": null,
            "width": null
          }
        },
        "16ae2368ef2b46a69c0c04fdc94311bd": {
          "model_module": "@jupyter-widgets/controls",
          "model_name": "DescriptionStyleModel",
          "model_module_version": "1.5.0",
          "state": {
            "_model_module": "@jupyter-widgets/controls",
            "_model_module_version": "1.5.0",
            "_model_name": "DescriptionStyleModel",
            "_view_count": null,
            "_view_module": "@jupyter-widgets/base",
            "_view_module_version": "1.2.0",
            "_view_name": "StyleView",
            "description_width": ""
          }
        },
        "18ad150feb6845cc82c1ef66fbd79735": {
          "model_module": "@jupyter-widgets/base",
          "model_name": "LayoutModel",
          "model_module_version": "1.2.0",
          "state": {
            "_model_module": "@jupyter-widgets/base",
            "_model_module_version": "1.2.0",
            "_model_name": "LayoutModel",
            "_view_count": null,
            "_view_module": "@jupyter-widgets/base",
            "_view_module_version": "1.2.0",
            "_view_name": "LayoutView",
            "align_content": null,
            "align_items": null,
            "align_self": null,
            "border": null,
            "bottom": null,
            "display": null,
            "flex": null,
            "flex_flow": null,
            "grid_area": null,
            "grid_auto_columns": null,
            "grid_auto_flow": null,
            "grid_auto_rows": null,
            "grid_column": null,
            "grid_gap": null,
            "grid_row": null,
            "grid_template_areas": null,
            "grid_template_columns": null,
            "grid_template_rows": null,
            "height": null,
            "justify_content": null,
            "justify_items": null,
            "left": null,
            "margin": null,
            "max_height": null,
            "max_width": null,
            "min_height": null,
            "min_width": null,
            "object_fit": null,
            "object_position": null,
            "order": null,
            "overflow": null,
            "overflow_x": null,
            "overflow_y": null,
            "padding": null,
            "right": null,
            "top": null,
            "visibility": null,
            "width": null
          }
        },
        "a5ec033a2df44dfda3a1bd1bc58defd4": {
          "model_module": "@jupyter-widgets/controls",
          "model_name": "ProgressStyleModel",
          "model_module_version": "1.5.0",
          "state": {
            "_model_module": "@jupyter-widgets/controls",
            "_model_module_version": "1.5.0",
            "_model_name": "ProgressStyleModel",
            "_view_count": null,
            "_view_module": "@jupyter-widgets/base",
            "_view_module_version": "1.2.0",
            "_view_name": "StyleView",
            "bar_color": null,
            "description_width": ""
          }
        },
        "ff3f229d98f0438e8229e67c0bf1ce96": {
          "model_module": "@jupyter-widgets/base",
          "model_name": "LayoutModel",
          "model_module_version": "1.2.0",
          "state": {
            "_model_module": "@jupyter-widgets/base",
            "_model_module_version": "1.2.0",
            "_model_name": "LayoutModel",
            "_view_count": null,
            "_view_module": "@jupyter-widgets/base",
            "_view_module_version": "1.2.0",
            "_view_name": "LayoutView",
            "align_content": null,
            "align_items": null,
            "align_self": null,
            "border": null,
            "bottom": null,
            "display": null,
            "flex": null,
            "flex_flow": null,
            "grid_area": null,
            "grid_auto_columns": null,
            "grid_auto_flow": null,
            "grid_auto_rows": null,
            "grid_column": null,
            "grid_gap": null,
            "grid_row": null,
            "grid_template_areas": null,
            "grid_template_columns": null,
            "grid_template_rows": null,
            "height": null,
            "justify_content": null,
            "justify_items": null,
            "left": null,
            "margin": null,
            "max_height": null,
            "max_width": null,
            "min_height": null,
            "min_width": null,
            "object_fit": null,
            "object_position": null,
            "order": null,
            "overflow": null,
            "overflow_x": null,
            "overflow_y": null,
            "padding": null,
            "right": null,
            "top": null,
            "visibility": null,
            "width": null
          }
        },
        "cf5e8fa767984a57b47e9fd48e057d30": {
          "model_module": "@jupyter-widgets/controls",
          "model_name": "DescriptionStyleModel",
          "model_module_version": "1.5.0",
          "state": {
            "_model_module": "@jupyter-widgets/controls",
            "_model_module_version": "1.5.0",
            "_model_name": "DescriptionStyleModel",
            "_view_count": null,
            "_view_module": "@jupyter-widgets/base",
            "_view_module_version": "1.2.0",
            "_view_name": "StyleView",
            "description_width": ""
          }
        }
      }
    }
  },
  "cells": [
    {
      "cell_type": "code",
      "source": [
        "!pip install datasets --quiet"
      ],
      "metadata": {
        "id": "TjGdjllYXGov"
      },
      "execution_count": 1,
      "outputs": []
    },
    {
      "cell_type": "code",
      "execution_count": 2,
      "metadata": {
        "id": "TrroHTCPk2Cq"
      },
      "outputs": [],
      "source": [
        "### importing libraries\n",
        "from torch.utils.data import DataLoader, Dataset\n",
        "import numpy as np\n",
        "import random\n",
        "\n",
        "from tqdm.notebook import tqdm\n",
        "from tensorflow.keras.preprocessing.text import Tokenizer\n",
        "from datasets import load_dataset"
      ]
    },
    {
      "cell_type": "code",
      "source": [
        "### load dataset from huggigface\n",
        "dataset_id = \"rahular/simple-wikipedia\"\n",
        "\n",
        "def tokenize_dataset(dataset_id):\n",
        "  \"\"\"load the datasets from huggingface tokenized using keras tokenizer\"\"\"\n",
        "\n",
        "  dataset = load_dataset(dataset_id, split=\"train\", streaming=True)\n",
        "  data_list = [data[\"text\"] for data in dataset]\n",
        "  tokenizer = Tokenizer(oov_token=\"<UNK>\")\n",
        "  tokenizer.fit_on_texts(data_list)\n",
        "  tokenized_text = tokenizer.texts_to_sequences(data_list)\n",
        "  fraction = int(0.1 * len(tokenized_text))\n",
        "  tokenized_text = tokenized_text[:fraction]\n",
        "  return tokenizer, tokenized_text\n",
        "\n",
        "\n",
        "def get_data(tokenized_text, bucket_size):\n",
        "  \"\"\"prepare the datasets\"\"\"\n",
        "\n",
        "  tokenized_text = [word for sublist in tokenized_text for word in sublist]\n",
        "  print(len(tokenized_text))\n",
        "  targets = []\n",
        "  contexts = []\n",
        "\n",
        "  for i in range(len(tokenized_text)):\n",
        "    target = tokenized_text[i]\n",
        "    context_start = max(0, i - bucket_size)\n",
        "    context_end = min(len(tokenized_text), i + bucket_size + 1)\n",
        "\n",
        "    context_word = [tokenized_text[j] for j in range(context_start, context_end) if j != i]\n",
        "\n",
        "    if len(context_word) != 2*bucket_size:\n",
        "      if context_start == 0:\n",
        "        context_word = [0] * (2*bucket_size - len(context_word)) + context_word\n",
        "\n",
        "      elif context_end == len(tokenized_text):\n",
        "        context_word = context_word + [0] * (2*bucket_size - len(context_word))\n",
        "\n",
        "    targets.append(target)\n",
        "    contexts.append(context_word)\n",
        "\n",
        "  return [targets, contexts]\n",
        "\n",
        "\n",
        "class Datasets(Dataset):\n",
        "  def __init__(self, dataset):\n",
        "    self.dataset = dataset\n",
        "\n",
        "  def __len__(self):\n",
        "    return len(self.dataset[0])\n",
        "\n",
        "  def __getitem__(self, idx):\n",
        "    return np.array(self.dataset[0][idx]), np.array(self.dataset[1][idx])\n",
        "\n",
        "tokenizer, tokenized_data = tokenize_dataset(dataset_id)\n",
        "print(len(tokenized_data))\n",
        "prepared_data = Datasets(get_data(tokenized_data, 10))\n",
        "dataloader = DataLoader(prepared_data, batch_size=128, shuffle=True)"
      ],
      "metadata": {
        "colab": {
          "base_uri": "https://localhost:8080/"
        },
        "id": "8kjUbQGke6Ri",
        "outputId": "1b4f4b08-8c00-4488-bc79-2b6496a59633"
      },
      "execution_count": 3,
      "outputs": [
        {
          "output_type": "stream",
          "name": "stderr",
          "text": [
            "/usr/local/lib/python3.11/dist-packages/huggingface_hub/utils/_auth.py:94: UserWarning: \n",
            "The secret `HF_TOKEN` does not exist in your Colab secrets.\n",
            "To authenticate with the Hugging Face Hub, create a token in your settings tab (https://huggingface.co/settings/tokens), set it as secret in your Google Colab and restart your session.\n",
            "You will be able to reuse this secret in all of your notebooks.\n",
            "Please note that authentication is recommended but still optional to access public models or datasets.\n",
            "  warnings.warn(\n"
          ]
        },
        {
          "output_type": "stream",
          "name": "stdout",
          "text": [
            "76976\n",
            "3167640\n"
          ]
        }
      ]
    },
    {
      "cell_type": "code",
      "source": [
        "class SkipGram:\n",
        "  def __init__(self, vocab_size, embedding_dim):\n",
        "    self.vocab_size = vocab_size\n",
        "    self.embedding_dim = embedding_dim\n",
        "    self.word_embedding = np.random.randn(vocab_size, embedding_dim) / np.sqrt(embedding_dim)\n",
        "    self.output_weights = np.random.randn(vocab_size, embedding_dim) / np.sqrt(embedding_dim)\n",
        "\n",
        "  def softmax(self, x):\n",
        "    \"\"\"\"create softmax probabilities\"\"\"\n",
        "    exp = np.exp(x - np.max(x, axis=1, keepdims=True))\n",
        "    return exp / np.sum(exp, axis=1, keepdims=True)\n",
        "\n",
        "  def sigmoid(self, x):\n",
        "    \"\"\"create sigmoid function for numerical stability\"\"\"\n",
        "    return np.where(x >= 0, 1 / (1 + np.exp(-x)), np.exp(x) / (1 + np.exp(x)))\n",
        "\n",
        "  def forward_pass(self, input_word):\n",
        "    \"\"\"forward pass\"\"\"\n",
        "\n",
        "    word_vec = self.word_embedding[input_word]\n",
        "    logits = np.dot(self.output_weights, word_vec)\n",
        "    prob = self.softmax(logits)\n",
        "    return prob\n",
        "\n",
        "  def negative_sampling_loss(self, input_word, context_words, num_negative_samples=5):\n",
        "    \"\"\"loss function to minimze\"\"\"\n",
        "\n",
        "    input_vec = self.word_embedding[input_word]\n",
        "\n",
        "    loss = 0\n",
        "    for context_word in context_words:\n",
        "      context_vec = self.output_weights[context_word]\n",
        "      pos_score = np.dot(input_vec, context_vec)\n",
        "      pos_loss = -np.log(self.sigmoid(pos_score))\n",
        "      loss += pos_loss\n",
        "\n",
        "    for _ in range(len(context_words) * num_negative_samples):\n",
        "      negative_word = np.random.randint(0, self.vocab_size)\n",
        "\n",
        "      while ((negative_word in context_words) and (negative_word == input_word)):\n",
        "        negative_word = np.random.randint(0, self.vocab_size)\n",
        "\n",
        "      negative_vec = self.output_weights[negative_word]\n",
        "      neg_score = np.dot(input_vec, negative_vec)\n",
        "      neg_loss = -np.log(self.sigmoid(-neg_score))\n",
        "      loss += neg_loss\n",
        "\n",
        "    return loss\n",
        "\n",
        "\n",
        "  def update_weights(self, input_word, context_words, learning_rate=0.01, num_negative_samples=5):\n",
        "    \"\"\"update the weights\"\"\"\n",
        "\n",
        "    target_vec = self.word_embedding[input_word]\n",
        "\n",
        "    for context_word in context_words:\n",
        "      context_vec = self.output_weights[context_word]\n",
        "      pos_score = np.dot(target_vec, context_vec)\n",
        "      grad = self.sigmoid(pos_score) - 1\n",
        "\n",
        "      # update the wieghts\n",
        "      self.word_embedding[input_word] -= learning_rate * grad * context_vec\n",
        "      self.output_weights[context_word] -= learning_rate * grad * target_vec\n",
        "\n",
        "\n",
        "    for _ in range(len(context_words) * num_negative_samples):\n",
        "      negative_word = np.random.randint(0, self.vocab_size)\n",
        "      while ((negative_word in context_words) and (negative_word == input_word)):\n",
        "        negative_word = np.random.randint(0, self.vocab_size)\n",
        "\n",
        "      negative_vec = self.output_weights[negative_word]\n",
        "      neg_score = np.dot(target_vec, negative_vec)\n",
        "      grad = self.sigmoid(-neg_score)\n",
        "\n",
        "      # update the weights\n",
        "      self.word_embedding[input_word] += learning_rate * grad * negative_vec\n",
        "      self.output_weights[negative_word] += learning_rate * grad * target_vec\n",
        "\n",
        "\n",
        "  def train(self, dataloader, epochs=10, window_size=5, learning_rate=0.001):\n",
        "    \"\"\"Training the model on input data\"\"\"\n",
        "    for epoch in range(epochs):\n",
        "      total_loss = 0\n",
        "\n",
        "      train_loader = tqdm(dataloader, desc=f\"Epoch {epoch} Training\")\n",
        "      for batch, (input_word, context_words) in enumerate(train_loader):\n",
        "        for i in range(len(input_word)):\n",
        "          target = input_word[i]\n",
        "          context = context_words[i]\n",
        "\n",
        "          loss = self.negative_sampling_loss(target, context)\n",
        "          total_loss += loss\n",
        "\n",
        "          self.update_weights(target, context, learning_rate)\n",
        "\n",
        "        train_loader.set_postfix({\"loss\": total_loss / (batch + 1)})\n",
        "\n",
        "\n",
        "  def get_word_embeeding(self, word_index):\n",
        "    \"\"\"get the word embedding\"\"\"\n",
        "\n",
        "    return self.word_embedding[word_index]"
      ],
      "metadata": {
        "id": "RLWOAiDXlC2P"
      },
      "execution_count": 4,
      "outputs": []
    },
    {
      "cell_type": "code",
      "source": [
        "vocab_size = len(tokenizer.word_index)"
      ],
      "metadata": {
        "id": "be5oDemWYjHP"
      },
      "execution_count": 5,
      "outputs": []
    },
    {
      "cell_type": "code",
      "source": [
        "skip_gram = SkipGram(vocab_size, 100)"
      ],
      "metadata": {
        "id": "VcfTE6r1Y_wC"
      },
      "execution_count": 6,
      "outputs": []
    },
    {
      "cell_type": "code",
      "source": [
        "skip_gram.train(dataloader)"
      ],
      "metadata": {
        "colab": {
          "base_uri": "https://localhost:8080/",
          "height": 232,
          "referenced_widgets": [
            "094f10e5287c484498797874184e5532",
            "e5177328e03b4dc99747684d0a37e6ee",
            "a7c4b2f328f748009054fb9c1afd84a1",
            "b6f028e6bab44616b4d56c57f6f3b09e",
            "4059c2f92d9b413cbe412a451ef18c9e",
            "77d96e3fa74c4af48acd8c3982d575ba",
            "16ae2368ef2b46a69c0c04fdc94311bd",
            "18ad150feb6845cc82c1ef66fbd79735",
            "a5ec033a2df44dfda3a1bd1bc58defd4",
            "ff3f229d98f0438e8229e67c0bf1ce96",
            "cf5e8fa767984a57b47e9fd48e057d30"
          ]
        },
        "id": "YB0mZlPMZi7N",
        "outputId": "2e441251-2a94-4645-ed9e-1a5a8b3b596f"
      },
      "execution_count": 8,
      "outputs": [
        {
          "output_type": "display_data",
          "data": {
            "text/plain": [
              "Epoch 0 Training:   0%|          | 0/24748 [00:00<?, ?it/s]"
            ],
            "application/vnd.jupyter.widget-view+json": {
              "version_major": 2,
              "version_minor": 0,
              "model_id": "094f10e5287c484498797874184e5532"
            }
          },
          "metadata": {}
        },
        {
          "output_type": "error",
          "ename": "KeyboardInterrupt",
          "evalue": "",
          "traceback": [
            "\u001b[0;31m---------------------------------------------------------------------------\u001b[0m",
            "\u001b[0;31mKeyboardInterrupt\u001b[0m                         Traceback (most recent call last)",
            "\u001b[0;32m<ipython-input-8-6e874b22f080>\u001b[0m in \u001b[0;36m<cell line: 0>\u001b[0;34m()\u001b[0m\n\u001b[0;32m----> 1\u001b[0;31m \u001b[0mskip_gram\u001b[0m\u001b[0;34m.\u001b[0m\u001b[0mtrain\u001b[0m\u001b[0;34m(\u001b[0m\u001b[0mdataloader\u001b[0m\u001b[0;34m)\u001b[0m\u001b[0;34m\u001b[0m\u001b[0;34m\u001b[0m\u001b[0m\n\u001b[0m",
            "\u001b[0;32m<ipython-input-4-31d68a3acec9>\u001b[0m in \u001b[0;36mtrain\u001b[0;34m(self, dataloader, epochs, window_size, learning_rate)\u001b[0m\n\u001b[1;32m     89\u001b[0m           \u001b[0mcontext\u001b[0m \u001b[0;34m=\u001b[0m \u001b[0mcontext_words\u001b[0m\u001b[0;34m[\u001b[0m\u001b[0mi\u001b[0m\u001b[0;34m]\u001b[0m\u001b[0;34m\u001b[0m\u001b[0;34m\u001b[0m\u001b[0m\n\u001b[1;32m     90\u001b[0m \u001b[0;34m\u001b[0m\u001b[0m\n\u001b[0;32m---> 91\u001b[0;31m           \u001b[0mloss\u001b[0m \u001b[0;34m=\u001b[0m \u001b[0mself\u001b[0m\u001b[0;34m.\u001b[0m\u001b[0mnegative_sampling_loss\u001b[0m\u001b[0;34m(\u001b[0m\u001b[0mtarget\u001b[0m\u001b[0;34m,\u001b[0m \u001b[0mcontext\u001b[0m\u001b[0;34m)\u001b[0m\u001b[0;34m\u001b[0m\u001b[0;34m\u001b[0m\u001b[0m\n\u001b[0m\u001b[1;32m     92\u001b[0m           \u001b[0mtotal_loss\u001b[0m \u001b[0;34m+=\u001b[0m \u001b[0mloss\u001b[0m\u001b[0;34m\u001b[0m\u001b[0;34m\u001b[0m\u001b[0m\n\u001b[1;32m     93\u001b[0m \u001b[0;34m\u001b[0m\u001b[0m\n",
            "\u001b[0;32m<ipython-input-4-31d68a3acec9>\u001b[0m in \u001b[0;36mnegative_sampling_loss\u001b[0;34m(self, input_word, context_words, num_negative_samples)\u001b[0m\n\u001b[1;32m     38\u001b[0m       \u001b[0mnegative_word\u001b[0m \u001b[0;34m=\u001b[0m \u001b[0mnp\u001b[0m\u001b[0;34m.\u001b[0m\u001b[0mrandom\u001b[0m\u001b[0;34m.\u001b[0m\u001b[0mrandint\u001b[0m\u001b[0;34m(\u001b[0m\u001b[0;36m0\u001b[0m\u001b[0;34m,\u001b[0m \u001b[0mself\u001b[0m\u001b[0;34m.\u001b[0m\u001b[0mvocab_size\u001b[0m\u001b[0;34m)\u001b[0m\u001b[0;34m\u001b[0m\u001b[0;34m\u001b[0m\u001b[0m\n\u001b[1;32m     39\u001b[0m \u001b[0;34m\u001b[0m\u001b[0m\n\u001b[0;32m---> 40\u001b[0;31m       \u001b[0;32mwhile\u001b[0m \u001b[0;34m(\u001b[0m\u001b[0;34m(\u001b[0m\u001b[0mnegative_word\u001b[0m \u001b[0;32min\u001b[0m \u001b[0mcontext_words\u001b[0m\u001b[0;34m)\u001b[0m \u001b[0;32mand\u001b[0m \u001b[0;34m(\u001b[0m\u001b[0mnegative_word\u001b[0m \u001b[0;34m==\u001b[0m \u001b[0minput_word\u001b[0m\u001b[0;34m)\u001b[0m\u001b[0;34m)\u001b[0m\u001b[0;34m:\u001b[0m\u001b[0;34m\u001b[0m\u001b[0;34m\u001b[0m\u001b[0m\n\u001b[0m\u001b[1;32m     41\u001b[0m         \u001b[0mnegative_word\u001b[0m \u001b[0;34m=\u001b[0m \u001b[0mnp\u001b[0m\u001b[0;34m.\u001b[0m\u001b[0mrandom\u001b[0m\u001b[0;34m.\u001b[0m\u001b[0mrandint\u001b[0m\u001b[0;34m(\u001b[0m\u001b[0;36m0\u001b[0m\u001b[0;34m,\u001b[0m \u001b[0mself\u001b[0m\u001b[0;34m.\u001b[0m\u001b[0mvocab_size\u001b[0m\u001b[0;34m)\u001b[0m\u001b[0;34m\u001b[0m\u001b[0;34m\u001b[0m\u001b[0m\n\u001b[1;32m     42\u001b[0m \u001b[0;34m\u001b[0m\u001b[0m\n",
            "\u001b[0;32m/usr/local/lib/python3.11/dist-packages/torch/_tensor.py\u001b[0m in \u001b[0;36m__contains__\u001b[0;34m(self, element)\u001b[0m\n\u001b[1;32m   1172\u001b[0m         \u001b[0;32mif\u001b[0m \u001b[0mhas_torch_function_unary\u001b[0m\u001b[0;34m(\u001b[0m\u001b[0mself\u001b[0m\u001b[0;34m)\u001b[0m\u001b[0;34m:\u001b[0m\u001b[0;34m\u001b[0m\u001b[0;34m\u001b[0m\u001b[0m\n\u001b[1;32m   1173\u001b[0m             \u001b[0;32mreturn\u001b[0m \u001b[0mhandle_torch_function\u001b[0m\u001b[0;34m(\u001b[0m\u001b[0mTensor\u001b[0m\u001b[0;34m.\u001b[0m\u001b[0m__contains__\u001b[0m\u001b[0;34m,\u001b[0m \u001b[0;34m(\u001b[0m\u001b[0mself\u001b[0m\u001b[0;34m,\u001b[0m\u001b[0;34m)\u001b[0m\u001b[0;34m,\u001b[0m \u001b[0mself\u001b[0m\u001b[0;34m,\u001b[0m \u001b[0melement\u001b[0m\u001b[0;34m)\u001b[0m\u001b[0;34m\u001b[0m\u001b[0;34m\u001b[0m\u001b[0m\n\u001b[0;32m-> 1174\u001b[0;31m         if isinstance(\n\u001b[0m\u001b[1;32m   1175\u001b[0m             \u001b[0melement\u001b[0m\u001b[0;34m,\u001b[0m \u001b[0;34m(\u001b[0m\u001b[0mtorch\u001b[0m\u001b[0;34m.\u001b[0m\u001b[0mTensor\u001b[0m\u001b[0;34m,\u001b[0m \u001b[0mNumber\u001b[0m\u001b[0;34m,\u001b[0m \u001b[0mtorch\u001b[0m\u001b[0;34m.\u001b[0m\u001b[0mSymInt\u001b[0m\u001b[0;34m,\u001b[0m \u001b[0mtorch\u001b[0m\u001b[0;34m.\u001b[0m\u001b[0mSymFloat\u001b[0m\u001b[0;34m,\u001b[0m \u001b[0mtorch\u001b[0m\u001b[0;34m.\u001b[0m\u001b[0mSymBool\u001b[0m\u001b[0;34m)\u001b[0m\u001b[0;34m\u001b[0m\u001b[0;34m\u001b[0m\u001b[0m\n\u001b[1;32m   1176\u001b[0m         ):\n",
            "\u001b[0;32m/usr/lib/python3.11/abc.py\u001b[0m in \u001b[0;36m__instancecheck__\u001b[0;34m(cls, instance)\u001b[0m\n",
            "\u001b[0;31mKeyboardInterrupt\u001b[0m: "
          ]
        }
      ]
    }
  ]
}