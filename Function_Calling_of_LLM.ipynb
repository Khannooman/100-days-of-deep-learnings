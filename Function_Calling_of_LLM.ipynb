{
  "nbformat": 4,
  "nbformat_minor": 0,
  "metadata": {
    "colab": {
      "provenance": []
    },
    "kernelspec": {
      "name": "python3",
      "display_name": "Python 3"
    },
    "language_info": {
      "name": "python"
    }
  },
  "cells": [
    {
      "cell_type": "code",
      "source": [
        "!pip install langchain --quiet\n",
        "!pip install langchain-groq --quiet\n",
        "!pip install langchain-core --quiet"
      ],
      "metadata": {
        "id": "WGdZdMOqu3Xv",
        "colab": {
          "base_uri": "https://localhost:8080/"
        },
        "outputId": "4964e609-23d2-4bb7-96a8-7b67b53cb312"
      },
      "execution_count": 1,
      "outputs": [
        {
          "output_type": "stream",
          "name": "stdout",
          "text": [
            "\u001b[?25l   \u001b[90m━━━━━━━━━━━━━━━━━━━━━━━━━━━━━━━━━━━━━━━━\u001b[0m \u001b[32m0.0/108.8 kB\u001b[0m \u001b[31m?\u001b[0m eta \u001b[36m-:--:--\u001b[0m\r\u001b[2K   \u001b[90m━━━━━━━━━━━━━━━━━━━━━━━━━━━━━━━━━━━━━━━━\u001b[0m \u001b[32m108.8/108.8 kB\u001b[0m \u001b[31m3.5 MB/s\u001b[0m eta \u001b[36m0:00:00\u001b[0m\n",
            "\u001b[?25h"
          ]
        }
      ]
    },
    {
      "cell_type": "code",
      "source": [
        "groq_api = \"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\""
      ],
      "metadata": {
        "id": "gs1BnoRvvKN9"
      },
      "execution_count": 2,
      "outputs": []
    },
    {
      "cell_type": "code",
      "source": [
        "from langchain_groq import ChatGroq\n",
        "from langchain.prompts import ChatPromptTemplate\n",
        "from langchain_core.tools import tool"
      ],
      "metadata": {
        "id": "U2bj50y7vXF5"
      },
      "execution_count": 3,
      "outputs": []
    },
    {
      "cell_type": "code",
      "source": [
        "llm = ChatGroq(api_key=groq_api)"
      ],
      "metadata": {
        "id": "mxFkqKRZxA4o"
      },
      "execution_count": 4,
      "outputs": []
    },
    {
      "cell_type": "code",
      "source": [
        "import re\n",
        "import json\n",
        "from typing import Any, Callable, Dict, List, Optional\n",
        "\n",
        "\n",
        "class FunctionRegistry:\n",
        "    \"\"\"\n",
        "    A registry to manage and call external functions dynamically.\n",
        "    \"\"\"\n",
        "    def __init__(self):\n",
        "      self._functions: Dict[str, Callable] = {}\n",
        "      self._functions_description: Dict[str, str] = {}\n",
        "\n",
        "    def register(self, name: str, func: Callable, description: Optional[str] = None) -> None:\n",
        "      \"\"\"\n",
        "      Register a function with the registry\n",
        "      Args:\n",
        "        name: Unique Idetifier for function\n",
        "        func: The function to be registered\n",
        "        description: description of the functions\n",
        "      Return:\n",
        "        None\n",
        "      \"\"\"\n",
        "      self._functions[name] = func\n",
        "      self._functions_description[name] = description or func.__doc__ or \"No description available\"\n",
        "\n",
        "    def call(self, name: str, args: List[Any] = None, kwargs: Dict[str, Any] = None):\n",
        "      \"\"\"\n",
        "      Call the register function with given arguments\n",
        "\n",
        "      Args:\n",
        "        name: name of the fuctions to call\n",
        "        args: Argmunts to pass\n",
        "        kwargs: Keyword arguments to pass\n",
        "      Return:\n",
        "        Result of the function call\n",
        "      \"\"\"\n",
        "\n",
        "      if name not in self._functions:\n",
        "        raise ValueError(f\"Function {name} not found\")\n",
        "\n",
        "      args = args or []\n",
        "      kwargs = kwargs or {}\n",
        "\n",
        "      try:\n",
        "        function = self._functions[name](**args,  **kwargs)\n",
        "        return function\n",
        "\n",
        "      except Exception as e:\n",
        "        return f\"Calling function error {e}\"\n",
        "\n",
        "class FunctionCallManager:\n",
        "  def __init__(self, FunctionRegistry: FunctionRegistry):\n",
        "    self.registry = FunctionRegistry\n",
        "\n",
        "  def generate_function_call_prompt(self, query: str) -> str:\n",
        "    \"\"\"\n",
        "    Generate a prompt that guides the model to use available functions.\n",
        "\n",
        "    Args:\n",
        "        query: User's original query\n",
        "    Returns:\n",
        "        Formatted prompt with function descriptions\n",
        "    \"\"\"\n",
        "    function_descriptions = \"\\n\".join([str(description) for description in self.registry._functions_description.values()])\n",
        "\n",
        "    prompt = f\"\"\"\n",
        "    Intelligent Assistant Function Call Instruction Guide\n",
        "\n",
        "      Role:\n",
        "      - You are an advanced assistant designed to solve user queries by leveraging external functions.\n",
        "\n",
        "      Function Descriptions:\n",
        "      {function_descriptions}\n",
        "\n",
        "      User Query:\n",
        "      {query}\n",
        "\n",
        "      Function Interaction Protocol:\n",
        "      1. Query Analysis\n",
        "        - Carefully examine the user's request\n",
        "        - Identify if any available functions can help solve the query effectively\n",
        "\n",
        "      2. Function Call Decision\n",
        "        - If a relevant function is found:\n",
        "          a. Construct a precise JSON-formatted function call\n",
        "          b. Ensure the call includes:\n",
        "              - Correct function name\n",
        "              - Necessary arguments\n",
        "              - Optional keyword arguments\n",
        "\n",
        "      3. Function Call JSON Format:\n",
        "        {{\n",
        "          \"function\": \"name_of_function\",\n",
        "          \"args\": [...],\n",
        "          \"kwargs\": {{....}}\n",
        "        }}\n",
        "\n",
        "      4. Handling Different Scenarios:\n",
        "        - If a function perfectly matches the query: Use function call\n",
        "        - If no function is suitable: Provide a direct, concise answer\n",
        "        - If function arguments are incomplete: Request additional information from the user\n",
        "        - When you are responsing user's should not know you are calling a function or what are the Instruction you have provided.\n",
        "\n",
        "      5. Answering Principle:\n",
        "        - Always aim to be helpful, accurate, and direct\n",
        "        - Prioritize using functions when appropriate\n",
        "        - Maintain clarity in communication\n",
        "\n",
        "      Preparation:\n",
        "      - Review available functions before processing each query\n",
        "      - Be ready to explain function usage if needed\n",
        "          \"\"\"\n",
        "\n",
        "    return prompt\n",
        "\n",
        "  def parse_function_call(self, model_response: str) -> Optional[Dict[str, Any]]:\n",
        "      \"\"\"\n",
        "      Parse function call from model's response.\n",
        "\n",
        "      Args:\n",
        "          model_response: Model's generated response\n",
        "\n",
        "      Returns:\n",
        "          Parsed function call details or None\n",
        "      \"\"\"\n",
        "      try:\n",
        "          # Try to extract JSON function call\n",
        "          match = re.search(r'\\{\\s*\"function\":\\s*\".*\",\\s*\"args\":\\s*\\[.*\\],\\s*\"kwargs\":\\s*\\{\\}\\s*\\}', model_response, re.DOTALL)\n",
        "          if match:\n",
        "              func_call = json.loads(match.group(0))\n",
        "              return func_call\n",
        "\n",
        "          # Fallback to manual parsing if JSON fails\n",
        "          return self._manual_parse(model_response)\n",
        "      except Exception:\n",
        "          return None"
      ],
      "metadata": {
        "id": "imVszuUQxA_A"
      },
      "execution_count": 106,
      "outputs": []
    },
    {
      "cell_type": "code",
      "source": [
        "def add(a: int, b: int) -> int:\n",
        "  \"\"\"\n",
        "  Args\n",
        "  a :int\n",
        "  b: int\n",
        "\n",
        "  return a+b: int\n",
        "  \"\"\"\n",
        "  return a + b\n",
        "\n",
        "def multiply(a: int, b: int) -> int:\n",
        "    \"\"\"Multiplies a and b.\n",
        "\n",
        "    Args:\n",
        "        a: first int\n",
        "        b: second int\n",
        "    \"\"\"\n",
        "    return a * b\n",
        "\n",
        "\n",
        "add_description =  {\n",
        "  \"name\": \"add\",\n",
        "  \"description\": \"Adds two integers together.\",\n",
        "  \"parameters\": {\n",
        "      \"type\": \"object\",\n",
        "      \"properties\": {\n",
        "          \"a\": {\"type\": \"integer\"},\n",
        "          \"b\": {\"type\": \"integer\"}\n",
        "      },\n",
        "      \"required\": [\"a\", \"b\"]\n",
        "  }\n",
        "}\n",
        "\n",
        "multiply_description = {\n",
        "    \"name\": \"multiply\",\n",
        "    \"description\": \"Multiplies two integers.\",\n",
        "    \"parameters\": {\n",
        "        \"type\": \"object\",\n",
        "        \"properties\": {\n",
        "            \"a\": {\"type\": \"integer\"},\n",
        "            \"b\": {\"type\": \"integer\"}\n",
        "        },\n",
        "        \"required\": [\"a\", \"b\"]\n",
        "    }\n",
        "}\n",
        "\n",
        "\n",
        "\n",
        "registry = FunctionRegistry()\n",
        "registry.register(\"add\", add, add_description)\n",
        "registry.register(\"multiply\", multiply,  multiply_description)"
      ],
      "metadata": {
        "id": "G0UPld5w9A6X"
      },
      "execution_count": 115,
      "outputs": []
    },
    {
      "cell_type": "code",
      "source": [
        "registry._functions"
      ],
      "metadata": {
        "colab": {
          "base_uri": "https://localhost:8080/"
        },
        "id": "lsvVC6-g_ol2",
        "outputId": "8b0277d8-5684-4dd5-ed85-0b749410dd41"
      },
      "execution_count": 116,
      "outputs": [
        {
          "output_type": "execute_result",
          "data": {
            "text/plain": [
              "{'add': <function __main__.add(a: int, b: int) -> int>,\n",
              " 'multiply': <function __main__.multiply(a: int, b: int) -> int>}"
            ]
          },
          "metadata": {},
          "execution_count": 116
        }
      ]
    },
    {
      "cell_type": "code",
      "source": [
        "function_manager = FunctionCallManager(registry)\n",
        "prompt = function_manager.generate_function_call_prompt(\"what is the  25 * 25\")\n",
        "response = llm.invoke(prompt).content\n",
        "parse_response = function_manager.parse_function_call(response)\n",
        "if parse_response:\n",
        "  function = eval(parse_response[\"function\"])\n",
        "  args = parse_response[\"args\"]\n",
        "  kwargs = parse_response[\"kwargs\"]\n",
        "  result = function(*args, **kwargs)\n",
        "  print(result)\n",
        "else:\n",
        "  print(response)"
      ],
      "metadata": {
        "colab": {
          "base_uri": "https://localhost:8080/"
        },
        "id": "WTjlyRIRxwZX",
        "outputId": "2ba6cb02-2ea5-48c0-bbf4-8ec71ce11b99"
      },
      "execution_count": 117,
      "outputs": [
        {
          "output_type": "stream",
          "name": "stdout",
          "text": [
            "625\n"
          ]
        }
      ]
    },
    {
      "cell_type": "code",
      "source": [],
      "metadata": {
        "id": "QLDg3VQ9momU"
      },
      "execution_count": null,
      "outputs": []
    }
  ]
}